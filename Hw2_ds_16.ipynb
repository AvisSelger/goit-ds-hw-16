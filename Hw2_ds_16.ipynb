{
 "cells": [
  {
   "cell_type": "code",
   "execution_count": null,
   "metadata": {},
   "outputs": [],
   "source": [
    "import streamlit as st\n",
    "import tensorflow as tf\n",
    "import numpy as np\n",
    "from PIL import Image\n",
    "\n",
    "# Load the models\n",
    "cnn_model = tf.keras.models.load_model('cnn_model.h5')\n",
    "vgg16_model = tf.keras.models.load_model('vgg16_model.h5')\n",
    "\n",
    "# Function to preprocess the image\n",
    "def preprocess_image(image):\n",
    "    image = image.resize((224, 224))\n",
    "    image = np.array(image)\n",
    "    image = image / 255.0  # Normalize\n",
    "    image = np.expand_dims(image, axis=0)  # Expand dimensions to fit the model input\n",
    "    return image\n",
    "\n",
    "# App title\n",
    "st.title('Image Classification Using Neural Networks')\n",
    "\n",
    "# Image upload interface\n",
    "uploaded_file = st.file_uploader(\"Upload an image for classification...\", type=[\"jpg\", \"png\"])\n",
    "\n",
    "if uploaded_file is not None:\n",
    "    image = Image.open(uploaded_file)\n",
    "    st.image(image, caption='Uploaded Image.', use_column_width=True)\n",
    "    \n",
    "    # Model selection interface\n",
    "    model_choice = st.selectbox(\"Select a model:\", (\"CNN Model\", \"VGG16 Model\"))\n",
    "    \n",
    "    # Choose the model based on user selection\n",
    "    if model_choice == \"CNN Model\":\n",
    "        model = cnn_model\n",
    "    else:\n",
    "        model = vgg16_model\n",
    "\n",
    "    # Preprocess the image\n",
    "    preprocessed_image = preprocess_image(image)\n",
    "    \n",
    "    # Perform prediction\n",
    "    predictions = model.predict(preprocessed_image)\n",
    "    predicted_class = np.argmax(predictions, axis=1)\n",
    "    \n",
    "    # Display the results\n",
    "    st.write(f\"Predicted Class: {predicted_class[0]}\")\n",
    "    st.write(\"Class Probabilities:\")\n",
    "    st.write(predictions)\n"
   ]
  },
  {
   "cell_type": "code",
   "execution_count": null,
   "metadata": {},
   "outputs": [],
   "source": [
    "bash\n",
    "\n",
    "streamlit run app.py"
   ]
  }
 ],
 "metadata": {
  "kernelspec": {
   "display_name": "Python 3",
   "language": "python",
   "name": "python3"
  },
  "language_info": {
   "codemirror_mode": {
    "name": "ipython",
    "version": 3
   },
   "file_extension": ".py",
   "mimetype": "text/x-python",
   "name": "python",
   "nbconvert_exporter": "python",
   "pygments_lexer": "ipython3",
   "version": "3.12.2"
  }
 },
 "nbformat": 4,
 "nbformat_minor": 2
}
